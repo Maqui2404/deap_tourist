{
 "cells": [
  {
   "cell_type": "markdown",
   "id": "63cd9c82",
   "metadata": {},
   "source": [
    "## DEAP (Distributed Evolutionary Algorithms in Python)\n",
    "\n",
    "**DEAP** es un marco de trabajo en Python para implementar algoritmos evolutivos. Proporciona una forma organizada y simplificada de coordinar los diferentes componentes necesarios para cualquier algoritmo evolutivo. Para cualquier componente, DEAP proporciona la mayoría de las variaciones comunes como componentes predefinidos, al tiempo que proporciona suficiente flexibilidad para definir sus propias variaciones en caso de que los componentes habituales no sean suficientes para su problema.\n",
    "\n",
    "Primero definamos un problema ficticio que podemos optimizar usando AG. En muchas situaciones tendrás algún proceso natural, lo llamaremos proceso de generación de datos, que se querrá modelar para poder hacer predicciones más adelante. El proceso de generación de datos es como una caja negra, nunca puedes mirar dentro, pero puedes darle una entrada y responderá con una salida.\n"
   ]
  },
  {
   "cell_type": "markdown",
   "id": "cae18fff",
   "metadata": {},
   "source": [
    "A continuación, una explicación detallada del framework DEAP y un tutorial paso a paso para crear un ejemplo de algoritmo genético simple que optimiza una función matemática."
   ]
  },
  {
   "cell_type": "markdown",
   "id": "68d73448",
   "metadata": {},
   "source": [
    "**1. Instalación de DEAP**\n",
    "\n",
    "Primero, instalar DEAP. Se puedes hacer usando pip:\n"
   ]
  },
  {
   "cell_type": "code",
   "execution_count": 1,
   "id": "d0549010",
   "metadata": {},
   "outputs": [
    {
     "name": "stdout",
     "output_type": "stream",
     "text": [
      "Collecting deap\n",
      "  Downloading deap-1.4.1.tar.gz (1.1 MB)\n",
      "     ---------------------------------------- 0.0/1.1 MB ? eta -:--:--\n",
      "     ---------------------------------------- 0.0/1.1 MB ? eta -:--:--\n",
      "     - -------------------------------------- 0.0/1.1 MB 330.3 kB/s eta 0:00:04\n",
      "     - -------------------------------------- 0.0/1.1 MB 326.8 kB/s eta 0:00:04\n",
      "     ---- ----------------------------------- 0.1/1.1 MB 656.4 kB/s eta 0:00:02\n",
      "     ------------ --------------------------- 0.3/1.1 MB 1.6 MB/s eta 0:00:01\n",
      "     -------------------------- ------------- 0.7/1.1 MB 2.7 MB/s eta 0:00:01\n",
      "     ---------------------------------------- 1.1/1.1 MB 3.8 MB/s eta 0:00:00\n",
      "  Preparing metadata (setup.py): started\n",
      "  Preparing metadata (setup.py): finished with status 'done'\n",
      "Requirement already satisfied: numpy in d:\\coco\\lib\\site-packages (from deap) (1.24.3)\n",
      "Building wheels for collected packages: deap\n",
      "  Building wheel for deap (setup.py): started\n",
      "  Building wheel for deap (setup.py): finished with status 'done'\n",
      "  Created wheel for deap: filename=deap-1.4.1-py3-none-any.whl size=97349 sha256=a1a1959c473ac056f295479be242a3873c44ff60e013c5730ae89ca186ea3799\n",
      "  Stored in directory: c:\\users\\marco\\appdata\\local\\pip\\cache\\wheels\\f8\\64\\b8\\65eacfbff3024ae2e2beb22e691d5c8abb89fbd863b8049b5f\n",
      "Successfully built deap\n",
      "Installing collected packages: deap\n",
      "Successfully installed deap-1.4.1\n"
     ]
    }
   ],
   "source": [
    "!pip install deap"
   ]
  },
  {
   "cell_type": "markdown",
   "id": "23a2b8b9",
   "metadata": {},
   "source": [
    "**2. Explicación de los Componentes Clave de DEAP**\n",
    "\n",
    "DEAP se compone de varios módulos importantes:\n",
    "\n",
    "- **Creator:** Define los tipos de individuos y la población.\n",
    "\n",
    "- **Base:** Contiene las funciones y clases básicas para crear el algoritmo evolutivo.\n",
    "\n",
    "- **Tools:** Proporciona herramientas útiles como operadores de selección, cruce y mutación.\n",
    "\n",
    "- **Algorithms:** Implementa algoritmos evolutivos estándar.\n"
   ]
  },
  {
   "cell_type": "markdown",
   "id": "f2766ba3",
   "metadata": {},
   "source": [
    "**a. Creator**\n",
    "\n",
    "El módulo creator se utiliza para definir nuevos tipos de datos, que representan individuos y sus aptitudes en la población. Esto permite una gran flexibilidad al definir la estructura de los individuos.\n",
    "\n",
    "- **Fitness:** Representa la aptitud de un individuo. En DEAP, se puede definir diferentes tipos de aptitud, como maximización o minimización.\n",
    "\n",
    "- **Individual:** Representa un individuo en la población. Normalmente, los individuos son listas, pero pueden ser de cualquier tipo.\n",
    "\n",
    "Ejemplo:\n",
    "\n",
    "*from deap import creator*\n",
    "\n",
    "*#Crear un tipo de fitness para maximización\n",
    "creator.create(\"FitnessMax\", base.Fitness, weights=(1.0,))*\n",
    "\n",
    "*#Crear un tipo de individuo que es una lista con el tipo de fitness definido anteriormente\n",
    "creator.create(\"Individual\", list, fitness=creator.FitnessMax)*"
   ]
  },
  {
   "cell_type": "markdown",
   "id": "cec16779",
   "metadata": {},
   "source": [
    "**b. Base**\n",
    "\n",
    "El módulo base proporciona clases y funciones básicas para crear y manipular los componentes de los algoritmos evolutivos.\n",
    "\n",
    "- **Toolbox:** Es una caja de herramientas que contiene todas las funciones necesarias para crear y manipular individuos, así como para implementar los operadores evolutivos.\n",
    "\n",
    "Ejemplo:\n",
    "\n",
    "*from deap import base*\n",
    "\n",
    "*#Crear una caja de herramientas*\n",
    "\n",
    "*toolbox = base.Toolbox()*"
   ]
  },
  {
   "cell_type": "markdown",
   "id": "0ba98b78",
   "metadata": {},
   "source": [
    "**c. Tools**\n",
    "\n",
    "El módulo tools ofrece un conjunto de operadores y funciones que son comúnmente usados en algoritmos evolutivos, como la inicialización de individuos, operadores de cruce (crossover), mutación y selección.\n",
    "\n",
    "- **initRepeat:** Inicializa una estructura repitiendo una función dada.\n",
    "- **cxTwoPoint:** Operador de cruce de dos puntos.\n",
    "- **mutGaussian:** Operador de mutación que añade ruido gaussiano.\n",
    "- **selTournament:** Operador de selección por torneo.\n",
    "\n",
    "Ejemplo:\n",
    "\n",
    "*from deap import tools*\n",
    "\n",
    "*#Registrar un atributo individual: un número flotante en el rango [-10, 10]*\n",
    "\n",
    "*toolbox.register(\"attr_float\", random.uniform, -10, 10)*\n",
    "\n",
    "*#Registrar la estructura del individuo*\n",
    "\n",
    "*toolbox.register(\"individual\", tools.initRepeat, creator.Individual, toolbox.attr_float, 1)*\n",
    "\n",
    "*#Registrar la estructura de la población*\n",
    "\n",
    "*toolbox.register(\"population\", tools.initRepeat, list, toolbox.individual)*\n"
   ]
  },
  {
   "cell_type": "markdown",
   "id": "299af11a",
   "metadata": {},
   "source": [
    "**d. Algorithms**\n",
    "\n",
    "El módulo algorithms contiene implementaciones de algoritmos evolutivos estándar que puedes utilizar directamente.\n",
    "\n",
    "- eaSimple: Implementa un algoritmo evolutivo simple.\n",
    "- eaMuPlusLambda: Implementa un algoritmo evolutivo de tipo *𝜇 + λ.*\n",
    "\n",
    "Ejemplo:\n",
    "\n",
    "*from deap import algorithms*\n",
    "\n",
    "*#Ejecutar el algoritmo evolutivo simple*\n",
    "\n",
    "*population, logbook = algorithms.eaSimple(\n",
    "    population, toolbox, \n",
    "    cxpb=0.5, mutpb=0.2, ngen=40, \n",
    "    stats=stats, verbose=True\n",
    ")*\n"
   ]
  },
  {
   "cell_type": "markdown",
   "id": "ddb2b37e",
   "metadata": {},
   "source": [
    "**Resumen del Flujo de Trabajo en DEAP**\n",
    "\n",
    "**1. Definir Tipos con Creator:** Define la estructura y la aptitud de los individuos.\n",
    "\n",
    "**2. Configurar la Caja de Herramientas con Base:** Registra funciones para la creación y manipulación de individuos y la población.\n",
    "\n",
    "**3. Registrar Operadores con Tools:** Define operadores de inicialización, cruce, mutación y selección.\n",
    "\n",
    "**4. Implementar el Algoritmo con Algorithms:** Utiliza algoritmos predefinidos para ejecutar el proceso evolutivo."
   ]
  },
  {
   "cell_type": "markdown",
   "id": "7b82a01a",
   "metadata": {},
   "source": [
    "**3. Ejemplo Desarrollado**\n",
    "\n",
    "Vamos a crear un algoritmo genético para maximizar la función f(x)=x^2.\n",
    "\n",
    "El objetivo es encontrar el valor de x que maximiza esta función en el rango [−10, 10 ].\n"
   ]
  },
  {
   "cell_type": "markdown",
   "id": "f5a64727",
   "metadata": {},
   "source": [
    "**Paso 1:** Importar las Bibliotecas Necesarias:"
   ]
  },
  {
   "cell_type": "code",
   "execution_count": 1,
   "id": "7d8e27a0",
   "metadata": {},
   "outputs": [],
   "source": [
    "import random\n",
    "import numpy as np\n",
    "from deap import base, creator, tools, algorithms"
   ]
  },
  {
   "cell_type": "markdown",
   "id": "9fe77660",
   "metadata": {},
   "source": [
    "**Paso 2:** Definir los Tipos de Individuos y la Población\n",
    "\n",
    "Utilizaremos el módulo creator para definir el tipo de individuo y la población."
   ]
  },
  {
   "cell_type": "code",
   "execution_count": 2,
   "id": "ed8528f9",
   "metadata": {},
   "outputs": [],
   "source": [
    "creator.create(\"FitnessMax\", base.Fitness, weights=(1.0,))\n",
    "creator.create(\"Individual\", list, fitness=creator.FitnessMax)\n"
   ]
  },
  {
   "cell_type": "markdown",
   "id": "e5be2cbe",
   "metadata": {},
   "source": [
    "**Paso 3:** Configurar el Algoritmo Evolutivo\n",
    "\n",
    "Configuramos la caja de herramientas (toolbox) para definir cómo se crearán y manipularán los individuos.\n"
   ]
  },
  {
   "cell_type": "code",
   "execution_count": 3,
   "id": "8f132b9c",
   "metadata": {},
   "outputs": [],
   "source": [
    "toolbox = base.Toolbox()\n",
    "\n",
    "# Atributo de un individuo: un número flotante en el rango [-10, 10]\n",
    "toolbox.register(\"attr_float\", random.uniform, -10, 10)\n",
    "\n",
    "# Estructura de un individuo: un solo atributo\n",
    "toolbox.register(\"individual\", tools.initRepeat, creator.Individual, toolbox.attr_float, 1)\n",
    "\n",
    "# Estructura de la población: una lista de individuos\n",
    "toolbox.register(\"population\", tools.initRepeat, list, toolbox.individual)\n"
   ]
  },
  {
   "cell_type": "markdown",
   "id": "c43f34e4",
   "metadata": {},
   "source": [
    "**Paso 4:** Definir la Función de Evaluación\n",
    "\n",
    "Definimos la función objetivo que queremos maximizar."
   ]
  },
  {
   "cell_type": "code",
   "execution_count": 4,
   "id": "3595e013",
   "metadata": {},
   "outputs": [],
   "source": [
    "def eval_func(individual):\n",
    "    x = individual[0]\n",
    "    return (x**2,)\n",
    "\n",
    "toolbox.register(\"evaluate\", eval_func)"
   ]
  },
  {
   "cell_type": "markdown",
   "id": "e485ea7f",
   "metadata": {},
   "source": [
    "**Paso 5:** Definir los Operadores Genéticos\n",
    "\n",
    "Registramos los operadores de selección, cruce y mutación."
   ]
  },
  {
   "cell_type": "code",
   "execution_count": 5,
   "id": "13d44192",
   "metadata": {},
   "outputs": [],
   "source": [
    "toolbox.register(\"mate\", tools.cxBlend, alpha=0.5)\n",
    "toolbox.register(\"mutate\", tools.mutGaussian, mu=0, sigma=1, indpb=0.2)\n",
    "toolbox.register(\"select\", tools.selTournament, tournsize=3)\n"
   ]
  },
  {
   "cell_type": "markdown",
   "id": "2e2bb177",
   "metadata": {},
   "source": [
    "**Paso 6:** Configurar el Algoritmo Evolutivo"
   ]
  },
  {
   "cell_type": "code",
   "execution_count": 6,
   "id": "2d496183",
   "metadata": {},
   "outputs": [
    {
     "name": "stdout",
     "output_type": "stream",
     "text": [
      "gen\tnevals\tavg    \tstd    \tmin        \tmax    \n",
      "0  \t300   \t35.1213\t30.5809\t0.000137411\t99.7714\n",
      "1  \t187   \t61.1105\t39.7275\t0.00195513 \t253.144\n",
      "2  \t179   \t94.7726\t64.208 \t0.0235178  \t477.016\n",
      "3  \t179   \t157.852\t115.818\t0.0195685  \t851.793\n",
      "4  \t188   \t290.171\t241.435\t0.00217555 \t1818.06\n",
      "5  \t180   \t480.362\t384.657\t0.263722   \t3179.39\n",
      "6  \t173   \t864.109\t671.581\t0.0132516  \t4527.03\n",
      "7  \t194   \t1384.27\t1005.21\t0.00375854 \t8046.75\n",
      "8  \t179   \t2071.72\t1272.24\t0.264025   \t8046.75\n",
      "9  \t178   \t3443.48\t2496.7 \t7.11357    \t17219.3\n",
      "10 \t189   \t5928.6 \t4076.17\t10.0194    \t34465.5\n",
      "11 \t176   \t9082.81\t5960.55\t0.613826   \t34465.5\n",
      "12 \t183   \t15445.2\t11543.4\t3.75727    \t96058.9\n",
      "13 \t179   \t27500.2\t21151.2\t1975.85    \t168454 \n",
      "14 \t203   \t48606.8\t39921  \t7.75016    \t259520 \n",
      "15 \t192   \t90350.8\t81013.1\t14.4886    \t565027 \n",
      "16 \t166   \t176132 \t177129 \t19.9738    \t1.25409e+06\n",
      "17 \t197   \t329521 \t299383 \t287.219    \t2.18358e+06\n",
      "18 \t171   \t588243 \t463891 \t17.7827    \t2.93636e+06\n",
      "19 \t172   \t1.03499e+06\t910038 \t2275.64    \t7.5583e+06 \n",
      "20 \t201   \t1.78903e+06\t1.41946e+06\t189.837    \t1.47731e+07\n",
      "21 \t188   \t2.92382e+06\t2.69026e+06\t7467.65    \t2.06864e+07\n",
      "22 \t173   \t5.60058e+06\t5.4485e+06 \t1501.09    \t4.59852e+07\n",
      "23 \t184   \t1.00598e+07\t8.18213e+06\t12577.7    \t5.94027e+07\n",
      "24 \t174   \t1.80467e+07\t1.56972e+07\t54045.7    \t1.55869e+08\n",
      "25 \t196   \t3.2417e+07 \t3.29914e+07\t97878.1    \t2.42228e+08\n",
      "26 \t176   \t7.27033e+07\t8.32093e+07\t9.2218     \t6.58465e+08\n",
      "27 \t177   \t1.32658e+08\t1.33699e+08\t129.689    \t1.21136e+09\n",
      "28 \t186   \t2.75379e+08\t2.60753e+08\t8.13318    \t2.15932e+09\n",
      "29 \t186   \t4.7412e+08 \t4.27166e+08\t34204      \t3.43465e+09\n",
      "30 \t176   \t7.40671e+08\t5.01662e+08\t463141     \t3.41013e+09\n",
      "31 \t175   \t1.2099e+09 \t9.53481e+08\t2.59671e+06\t7.38329e+09\n",
      "32 \t191   \t2.00154e+09\t1.63158e+09\t92509.7    \t1.33253e+10\n",
      "33 \t197   \t3.32312e+09\t2.95146e+09\t4757.8     \t2.64419e+10\n",
      "34 \t166   \t5.80159e+09\t5.07585e+09\t2.25951e+06\t3.61903e+10\n",
      "35 \t180   \t1.04962e+10\t9.27898e+09\t2.03296e+06\t6.09658e+10\n",
      "36 \t187   \t1.80621e+10\t1.4331e+10 \t616505     \t1.02789e+11\n",
      "37 \t182   \t3.26696e+10\t2.82433e+10\t8.93686e+06\t2.41973e+11\n",
      "38 \t186   \t6.12612e+10\t5.22064e+10\t951229     \t4.03884e+11\n",
      "39 \t174   \t1.17712e+11\t1.07316e+11\t1.3148e+08 \t9.17381e+11\n",
      "40 \t183   \t2.36279e+11\t2.06598e+11\t8339.71    \t1.47635e+12\n"
     ]
    }
   ],
   "source": [
    "def main():\n",
    "    random.seed(42)\n",
    "    \n",
    "    # Crear una población inicial de 300 individuos\n",
    "    population = toolbox.population(n=300)\n",
    "    \n",
    "    # Definir las estadísticas que queremos recolectar\n",
    "    stats = tools.Statistics(lambda ind: ind.fitness.values)\n",
    "    stats.register(\"avg\", np.mean)\n",
    "    stats.register(\"std\", np.std)\n",
    "    stats.register(\"min\", np.min)\n",
    "    stats.register(\"max\", np.max)\n",
    "    \n",
    "    # Ejecutar el algoritmo evolutivo\n",
    "    population, logbook = algorithms.eaSimple(\n",
    "        population, toolbox, \n",
    "        cxpb=0.5, mutpb=0.2, ngen=40, \n",
    "        stats=stats, verbose=True\n",
    "    )\n",
    "    \n",
    "    return population, logbook\n",
    "\n",
    "if __name__ == \"__main__\":\n",
    "    population, logbook = main()\n"
   ]
  },
  {
   "cell_type": "markdown",
   "id": "f3a79430",
   "metadata": {},
   "source": [
    "**Paso 7:** Ejecutar y Analizar los Resultados\n",
    "\n",
    "Ejecuta el script anterior para ver cómo evoluciona la población y encuentra el valor óptimo de \n",
    "𝑥\n",
    "x. El algoritmo imprimirá estadísticas sobre la población en cada generación, como el valor promedio de la función de aptitud (fitness), la desviación estándar y los valores mínimo y máximo."
   ]
  },
  {
   "cell_type": "markdown",
   "id": "865e5abf",
   "metadata": {},
   "source": [
    "**Paso 8:** Visualizar los Resultados\n",
    "\n",
    "Podemos visualizar los resultados utilizando Matplotlib."
   ]
  },
  {
   "cell_type": "code",
   "execution_count": 8,
   "id": "23a545fc",
   "metadata": {},
   "outputs": [
    {
     "data": {
      "image/png": "[encoded data removed]",
      "text/plain": [
       "<Figure size 640x480 with 1 Axes>"
      ]
     },
     "metadata": {},
     "output_type": "display_data"
    }
   ],
   "source": [
    "import matplotlib.pyplot as plt\n",
    "\n",
    "# Obtener los valores máximos de aptitud en cada generación\n",
    "gen = logbook.select(\"gen\")\n",
    "maxs = logbook.select(\"max\")\n",
    "\n",
    "# Crear una gráfica\n",
    "plt.plot(gen, maxs, label=\"Max Fitness\")\n",
    "plt.xlabel(\"Generación\")\n",
    "plt.ylabel(\"Aptitud Máxima\")\n",
    "plt.legend(loc=\"best\")\n",
    "plt.grid()\n",
    "plt.show()"
   ]
  },
  {
   "cell_type": "code",
   "execution_count": null,
   "id": "92165b5e",
   "metadata": {},
   "outputs": [],
   "source": []
  }
 ],
 "metadata": {
  "kernelspec": {
   "display_name": "Python 3 (ipykernel)",
   "language": "python",
   "name": "python3"
  },
  "language_info": {
   "codemirror_mode": {
    "name": "ipython",
    "version": 3
   },
   "file_extension": ".py",
   "mimetype": "text/x-python",
   "name": "python",
   "nbconvert_exporter": "python",
   "pygments_lexer": "ipython3",
   "version": "3.11.5"
  }
 },
 "nbformat": 4,
 "nbformat_minor": 5
}
